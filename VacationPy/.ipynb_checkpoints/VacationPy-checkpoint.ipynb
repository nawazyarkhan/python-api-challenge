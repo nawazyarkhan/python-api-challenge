{
 "cells": [
  {
   "cell_type": "markdown",
   "metadata": {},
   "source": [
    "# VacationPy\n",
    "----\n",
    "\n",
    "#### Note\n",
    "* Keep an eye on your API usage. Use https://developers.google.com/maps/reporting/gmp-reporting as reference for how to monitor your usage and billing.\n",
    "\n",
    "* Instructions have been included for each segment. You do not have to follow them exactly, but they are included to help you think through the steps."
   ]
  },
  {
   "cell_type": "code",
   "execution_count": 10,
   "metadata": {},
   "outputs": [],
   "source": [
    "# Dependencies and Setup\n",
    "import matplotlib.pyplot as plt\n",
    "import pandas as pd\n",
    "import numpy as np\n",
    "import requests\n",
    "import gmaps\n",
    "import os\n",
    "\n",
    "# Import API key\n",
    "from api_keys import g_key"
   ]
  },
  {
   "cell_type": "markdown",
   "metadata": {},
   "source": [
    "### Store Part I results into DataFrame\n",
    "* Load the csv exported in Part I to a DataFrame"
   ]
  },
  {
   "cell_type": "code",
   "execution_count": 82,
   "metadata": {},
   "outputs": [
    {
     "data": {
      "text/html": [
       "<div>\n",
       "<style scoped>\n",
       "    .dataframe tbody tr th:only-of-type {\n",
       "        vertical-align: middle;\n",
       "    }\n",
       "\n",
       "    .dataframe tbody tr th {\n",
       "        vertical-align: top;\n",
       "    }\n",
       "\n",
       "    .dataframe thead th {\n",
       "        text-align: right;\n",
       "    }\n",
       "</style>\n",
       "<table border=\"1\" class=\"dataframe\">\n",
       "  <thead>\n",
       "    <tr style=\"text-align: right;\">\n",
       "      <th></th>\n",
       "      <th>City</th>\n",
       "      <th>Lat</th>\n",
       "      <th>Lng</th>\n",
       "      <th>Max Temp</th>\n",
       "      <th>Humidity</th>\n",
       "      <th>Cloudiness</th>\n",
       "      <th>Wind Speed</th>\n",
       "      <th>Country</th>\n",
       "      <th>Date</th>\n",
       "    </tr>\n",
       "    <tr>\n",
       "      <th>City ID</th>\n",
       "      <th></th>\n",
       "      <th></th>\n",
       "      <th></th>\n",
       "      <th></th>\n",
       "      <th></th>\n",
       "      <th></th>\n",
       "      <th></th>\n",
       "      <th></th>\n",
       "      <th></th>\n",
       "    </tr>\n",
       "  </thead>\n",
       "  <tbody>\n",
       "    <tr>\n",
       "      <th>0</th>\n",
       "      <td>Ōzu</td>\n",
       "      <td>33.5000</td>\n",
       "      <td>132.5500</td>\n",
       "      <td>44.19</td>\n",
       "      <td>61</td>\n",
       "      <td>63</td>\n",
       "      <td>4.68</td>\n",
       "      <td>JP</td>\n",
       "      <td>1641168893</td>\n",
       "    </tr>\n",
       "    <tr>\n",
       "      <th>1</th>\n",
       "      <td>Laguna</td>\n",
       "      <td>38.4210</td>\n",
       "      <td>-121.4238</td>\n",
       "      <td>55.24</td>\n",
       "      <td>68</td>\n",
       "      <td>1</td>\n",
       "      <td>1.01</td>\n",
       "      <td>US</td>\n",
       "      <td>1641168893</td>\n",
       "    </tr>\n",
       "    <tr>\n",
       "      <th>2</th>\n",
       "      <td>Bealanana</td>\n",
       "      <td>-14.5500</td>\n",
       "      <td>48.7333</td>\n",
       "      <td>65.17</td>\n",
       "      <td>96</td>\n",
       "      <td>98</td>\n",
       "      <td>0.40</td>\n",
       "      <td>MG</td>\n",
       "      <td>1641168893</td>\n",
       "    </tr>\n",
       "    <tr>\n",
       "      <th>3</th>\n",
       "      <td>Bredasdorp</td>\n",
       "      <td>-34.5322</td>\n",
       "      <td>20.0403</td>\n",
       "      <td>58.32</td>\n",
       "      <td>82</td>\n",
       "      <td>88</td>\n",
       "      <td>3.44</td>\n",
       "      <td>ZA</td>\n",
       "      <td>1641168893</td>\n",
       "    </tr>\n",
       "    <tr>\n",
       "      <th>4</th>\n",
       "      <td>Ouadda</td>\n",
       "      <td>8.0777</td>\n",
       "      <td>22.4007</td>\n",
       "      <td>70.97</td>\n",
       "      <td>28</td>\n",
       "      <td>47</td>\n",
       "      <td>7.23</td>\n",
       "      <td>CF</td>\n",
       "      <td>1641168893</td>\n",
       "    </tr>\n",
       "  </tbody>\n",
       "</table>\n",
       "</div>"
      ],
      "text/plain": [
       "               City      Lat       Lng  Max Temp  Humidity  Cloudiness  \\\n",
       "City ID                                                                  \n",
       "0               Ōzu  33.5000  132.5500     44.19        61          63   \n",
       "1            Laguna  38.4210 -121.4238     55.24        68           1   \n",
       "2         Bealanana -14.5500   48.7333     65.17        96          98   \n",
       "3        Bredasdorp -34.5322   20.0403     58.32        82          88   \n",
       "4            Ouadda   8.0777   22.4007     70.97        28          47   \n",
       "\n",
       "         Wind Speed Country        Date  \n",
       "City ID                                  \n",
       "0              4.68      JP  1641168893  \n",
       "1              1.01      US  1641168893  \n",
       "2              0.40      MG  1641168893  \n",
       "3              3.44      ZA  1641168893  \n",
       "4              7.23      CF  1641168893  "
      ]
     },
     "execution_count": 82,
     "metadata": {},
     "output_type": "execute_result"
    }
   ],
   "source": [
    "wdata_df=pd.read_csv(\"../output_data/CityWeather.csv\",index_col=\"City ID\")\n",
    "wdata_df.head()"
   ]
  },
  {
   "cell_type": "markdown",
   "metadata": {},
   "source": [
    "### Humidity Heatmap\n",
    "* Configure gmaps.\n",
    "* Use the Lat and Lng as locations and Humidity as the weight.\n",
    "* Add Heatmap layer to map."
   ]
  },
  {
   "cell_type": "code",
   "execution_count": 83,
   "metadata": {},
   "outputs": [
    {
     "data": {
      "application/vnd.jupyter.widget-view+json": {
       "model_id": "fe1cfaede8df427881843ddce0cad859",
       "version_major": 2,
       "version_minor": 0
      },
      "text/plain": [
       "Figure(layout=FigureLayout(height='400px', padding='1px', width='100%'))"
      ]
     },
     "metadata": {},
     "output_type": "display_data"
    }
   ],
   "source": [
    "# Configure gmaps\n",
    "gmaps.configure(api_key=g_key)\n",
    "##defining locations\n",
    "locations = wdata_df[['Lat', 'Lng']]\n",
    "##defining weight\n",
    "humidity=wdata_df['Humidity']\n",
    "# --- customize the size of the figure and add heatmap layer to map ---\n",
    "figure_layout = {\n",
    "    'width': \"100%\",\n",
    "    'height': '400px',\n",
    "#    'border': '1px solid black',\n",
    "    'padding': '1px',\n",
    "#    'margin': '0 auto 0 auto'\n",
    "}\n",
    "fig = gmaps.figure(layout=figure_layout, center=(20.0, 5.0), zoom_level=1.9)\n",
    "heat_layer = gmaps.heatmap_layer(locations, humidity, \n",
    "                                 dissipating=False,max_intensity=max(humidity), point_radius=3)\n",
    "fig.add_layer(heat_layer)\n",
    "fig"
   ]
  },
  {
   "cell_type": "code",
   "execution_count": null,
   "metadata": {},
   "outputs": [],
   "source": []
  },
  {
   "cell_type": "markdown",
   "metadata": {},
   "source": [
    "### Create new DataFrame fitting weather criteria\n",
    "* Narrow down the cities to fit weather conditions.\n",
    "* Drop any rows will null values."
   ]
  },
  {
   "cell_type": "code",
   "execution_count": 84,
   "metadata": {},
   "outputs": [
    {
     "data": {
      "text/html": [
       "<div>\n",
       "<style scoped>\n",
       "    .dataframe tbody tr th:only-of-type {\n",
       "        vertical-align: middle;\n",
       "    }\n",
       "\n",
       "    .dataframe tbody tr th {\n",
       "        vertical-align: top;\n",
       "    }\n",
       "\n",
       "    .dataframe thead th {\n",
       "        text-align: right;\n",
       "    }\n",
       "</style>\n",
       "<table border=\"1\" class=\"dataframe\">\n",
       "  <thead>\n",
       "    <tr style=\"text-align: right;\">\n",
       "      <th></th>\n",
       "      <th>City</th>\n",
       "      <th>Lat</th>\n",
       "      <th>Lng</th>\n",
       "      <th>Max Temp</th>\n",
       "      <th>Humidity</th>\n",
       "      <th>Cloudiness</th>\n",
       "      <th>Wind Speed</th>\n",
       "      <th>Country</th>\n",
       "      <th>Date</th>\n",
       "    </tr>\n",
       "  </thead>\n",
       "  <tbody>\n",
       "    <tr>\n",
       "      <th>0</th>\n",
       "      <td>Los Llanos de Aridane</td>\n",
       "      <td>28.6585</td>\n",
       "      <td>-17.9182</td>\n",
       "      <td>70.12</td>\n",
       "      <td>22</td>\n",
       "      <td>0</td>\n",
       "      <td>8.01</td>\n",
       "      <td>ES</td>\n",
       "      <td>1641168949</td>\n",
       "    </tr>\n",
       "    <tr>\n",
       "      <th>1</th>\n",
       "      <td>Qandala</td>\n",
       "      <td>11.4720</td>\n",
       "      <td>49.8728</td>\n",
       "      <td>75.29</td>\n",
       "      <td>70</td>\n",
       "      <td>0</td>\n",
       "      <td>3.60</td>\n",
       "      <td>SO</td>\n",
       "      <td>1641168978</td>\n",
       "    </tr>\n",
       "    <tr>\n",
       "      <th>2</th>\n",
       "      <td>Kibala</td>\n",
       "      <td>9.1104</td>\n",
       "      <td>18.3463</td>\n",
       "      <td>71.55</td>\n",
       "      <td>33</td>\n",
       "      <td>0</td>\n",
       "      <td>6.91</td>\n",
       "      <td>TD</td>\n",
       "      <td>1641168986</td>\n",
       "    </tr>\n",
       "    <tr>\n",
       "      <th>3</th>\n",
       "      <td>Puruarán</td>\n",
       "      <td>19.1000</td>\n",
       "      <td>-101.5333</td>\n",
       "      <td>78.48</td>\n",
       "      <td>55</td>\n",
       "      <td>0</td>\n",
       "      <td>3.02</td>\n",
       "      <td>MX</td>\n",
       "      <td>1641168989</td>\n",
       "    </tr>\n",
       "    <tr>\n",
       "      <th>4</th>\n",
       "      <td>Saint-Pierre</td>\n",
       "      <td>-21.3393</td>\n",
       "      <td>55.4781</td>\n",
       "      <td>74.88</td>\n",
       "      <td>69</td>\n",
       "      <td>0</td>\n",
       "      <td>8.05</td>\n",
       "      <td>RE</td>\n",
       "      <td>1641168727</td>\n",
       "    </tr>\n",
       "  </tbody>\n",
       "</table>\n",
       "</div>"
      ],
      "text/plain": [
       "                    City      Lat       Lng  Max Temp  Humidity  Cloudiness  \\\n",
       "0  Los Llanos de Aridane  28.6585  -17.9182     70.12        22           0   \n",
       "1                Qandala  11.4720   49.8728     75.29        70           0   \n",
       "2                 Kibala   9.1104   18.3463     71.55        33           0   \n",
       "3               Puruarán  19.1000 -101.5333     78.48        55           0   \n",
       "4           Saint-Pierre -21.3393   55.4781     74.88        69           0   \n",
       "\n",
       "   Wind Speed Country        Date  \n",
       "0        8.01      ES  1641168949  \n",
       "1        3.60      SO  1641168978  \n",
       "2        6.91      TD  1641168986  \n",
       "3        3.02      MX  1641168989  \n",
       "4        8.05      RE  1641168727  "
      ]
     },
     "execution_count": 84,
     "metadata": {},
     "output_type": "execute_result"
    }
   ],
   "source": [
    "vacation_cities=wdata_df.loc[(wdata_df[\"Max Temp\"]> 70) &\n",
    "                             (wdata_df[\"Max Temp\"]< 80) &\n",
    "                             (wdata_df[\"Wind Speed\"] < 10) &\n",
    "                             (wdata_df[\"Cloudiness\"] == 0),:].reset_index(drop=True).dropna()\n",
    "vacation_cities"
   ]
  },
  {
   "cell_type": "markdown",
   "metadata": {},
   "source": [
    "### Hotel Map\n",
    "* Store into variable named `hotel_df`.\n",
    "* Add a \"Hotel Name\" column to the DataFrame.\n",
    "* Set parameters to search for hotels with 5000 meters.\n",
    "* Hit the Google Places API for each city's coordinates.\n",
    "* Store the first Hotel result into the DataFrame.\n",
    "* Plot markers on top of the heatmap."
   ]
  },
  {
   "cell_type": "code",
   "execution_count": 85,
   "metadata": {},
   "outputs": [
    {
     "data": {
      "text/html": [
       "<div>\n",
       "<style scoped>\n",
       "    .dataframe tbody tr th:only-of-type {\n",
       "        vertical-align: middle;\n",
       "    }\n",
       "\n",
       "    .dataframe tbody tr th {\n",
       "        vertical-align: top;\n",
       "    }\n",
       "\n",
       "    .dataframe thead th {\n",
       "        text-align: right;\n",
       "    }\n",
       "</style>\n",
       "<table border=\"1\" class=\"dataframe\">\n",
       "  <thead>\n",
       "    <tr style=\"text-align: right;\">\n",
       "      <th></th>\n",
       "      <th>City</th>\n",
       "      <th>Country</th>\n",
       "      <th>Lat</th>\n",
       "      <th>Lng</th>\n",
       "      <th>Hotel Name</th>\n",
       "    </tr>\n",
       "  </thead>\n",
       "  <tbody>\n",
       "    <tr>\n",
       "      <th>0</th>\n",
       "      <td>Los Llanos de Aridane</td>\n",
       "      <td>ES</td>\n",
       "      <td>28.6585</td>\n",
       "      <td>-17.9182</td>\n",
       "      <td>NaN</td>\n",
       "    </tr>\n",
       "    <tr>\n",
       "      <th>1</th>\n",
       "      <td>Qandala</td>\n",
       "      <td>SO</td>\n",
       "      <td>11.4720</td>\n",
       "      <td>49.8728</td>\n",
       "      <td>NaN</td>\n",
       "    </tr>\n",
       "    <tr>\n",
       "      <th>2</th>\n",
       "      <td>Kibala</td>\n",
       "      <td>TD</td>\n",
       "      <td>9.1104</td>\n",
       "      <td>18.3463</td>\n",
       "      <td>NaN</td>\n",
       "    </tr>\n",
       "    <tr>\n",
       "      <th>3</th>\n",
       "      <td>Puruarán</td>\n",
       "      <td>MX</td>\n",
       "      <td>19.1000</td>\n",
       "      <td>-101.5333</td>\n",
       "      <td>NaN</td>\n",
       "    </tr>\n",
       "    <tr>\n",
       "      <th>4</th>\n",
       "      <td>Saint-Pierre</td>\n",
       "      <td>RE</td>\n",
       "      <td>-21.3393</td>\n",
       "      <td>55.4781</td>\n",
       "      <td>NaN</td>\n",
       "    </tr>\n",
       "  </tbody>\n",
       "</table>\n",
       "</div>"
      ],
      "text/plain": [
       "                    City Country      Lat       Lng  Hotel Name\n",
       "0  Los Llanos de Aridane      ES  28.6585  -17.9182         NaN\n",
       "1                Qandala      SO  11.4720   49.8728         NaN\n",
       "2                 Kibala      TD   9.1104   18.3463         NaN\n",
       "3               Puruarán      MX  19.1000 -101.5333         NaN\n",
       "4           Saint-Pierre      RE -21.3393   55.4781         NaN"
      ]
     },
     "execution_count": 85,
     "metadata": {},
     "output_type": "execute_result"
    }
   ],
   "source": [
    "# --- store into variable named hotel_df ---\n",
    "\n",
    "hotel_df = vacation_cities[[\"City\", \"Country\", \"Lat\", \"Lng\"]].copy()\n",
    "\n",
    "# --- Add a \"Hotel Name\" column to the DataFrame with null values ---\n",
    "hotel_df[\"Hotel Name\"] = np.nan\n",
    "hotel_df"
   ]
  },
  {
   "cell_type": "code",
   "execution_count": 86,
   "metadata": {},
   "outputs": [],
   "source": [
    "# set up parameters for querying Google Places API\n",
    "target_search = \"hotel\"\n",
    "target_radius = 5000\n",
    "target_type = \"lodging\"\n",
    "\n",
    "# set up a parameters dictionary\n",
    "params = {\n",
    "    \"keyword\": target_search,\n",
    "    \"radius\": target_radius,\n",
    "    \"type\": target_type,\n",
    "    \"key\": g_key\n",
    "}\n",
    "\n",
    "# define base url\n",
    "base_url = \"https://maps.googleapis.com/maps/api/place/nearbysearch/json\""
   ]
  },
  {
   "cell_type": "code",
   "execution_count": 87,
   "metadata": {
    "scrolled": true
   },
   "outputs": [
    {
     "name": "stdout",
     "output_type": "stream",
     "text": [
      "City 'Los Llanos de Aridane' found! The nearest hotel is Hotel Hacienda de Abajo\n",
      "-------------------------------------------------------------------------\n",
      "Could not find information for city 'Qandala'... skipping.\n",
      "-------------------------------------------------------------------------\n",
      "City 'Kibala' found! The nearest hotel is hotel safari\n",
      "-------------------------------------------------------------------------\n",
      "Could not find information for city 'Puruarán'... skipping.\n",
      "-------------------------------------------------------------------------\n",
      "City 'Saint-Pierre' found! The nearest hotel is Hôtel Le Saint-Pierre\n",
      "-------------------------------------------------------------------------\n"
     ]
    }
   ],
   "source": [
    "# use a for loop to go through each city in the dataframe and make an API call\n",
    "\n",
    "for index, row in hotel_df.iterrows():\n",
    "    lat=row[\"Lat\"]\n",
    "    lng=row[\"Lng\"]\n",
    "    params[\"location\"]=f\"{lat},{lng}\"\n",
    "    \n",
    "     # call the API and get hotel details for each city ---\n",
    "    hotel_data = requests.get(base_url, params)\n",
    "    hotel_data=hotel_data.json()\n",
    "    \n",
    "    # use exception handling to save the first hotel name for each city\n",
    "    try:\n",
    "        hotel_name = hotel_data[\"results\"][0][\"name\"]\n",
    "        hotel_df.loc[index, \"Hotel Name\"] = hotel_name\n",
    "        print(f\"City '{row['City']}' found! The nearest hotel is {hotel_name}\")\n",
    "        print(\"-------------------------------------------------------------------------\")\n",
    "              \n",
    "    except:\n",
    "        print(f\"Could not find information for city '{row['City']}'... skipping.\")    \n",
    "        print(\"-------------------------------------------------------------------------\")\n",
    "        "
   ]
  },
  {
   "cell_type": "code",
   "execution_count": 88,
   "metadata": {},
   "outputs": [
    {
     "data": {
      "text/html": [
       "<div>\n",
       "<style scoped>\n",
       "    .dataframe tbody tr th:only-of-type {\n",
       "        vertical-align: middle;\n",
       "    }\n",
       "\n",
       "    .dataframe tbody tr th {\n",
       "        vertical-align: top;\n",
       "    }\n",
       "\n",
       "    .dataframe thead th {\n",
       "        text-align: right;\n",
       "    }\n",
       "</style>\n",
       "<table border=\"1\" class=\"dataframe\">\n",
       "  <thead>\n",
       "    <tr style=\"text-align: right;\">\n",
       "      <th></th>\n",
       "      <th>City</th>\n",
       "      <th>Country</th>\n",
       "      <th>Lat</th>\n",
       "      <th>Lng</th>\n",
       "      <th>Hotel Name</th>\n",
       "    </tr>\n",
       "  </thead>\n",
       "  <tbody>\n",
       "    <tr>\n",
       "      <th>0</th>\n",
       "      <td>Los Llanos de Aridane</td>\n",
       "      <td>ES</td>\n",
       "      <td>28.6585</td>\n",
       "      <td>-17.9182</td>\n",
       "      <td>Hotel Hacienda de Abajo</td>\n",
       "    </tr>\n",
       "    <tr>\n",
       "      <th>1</th>\n",
       "      <td>Kibala</td>\n",
       "      <td>TD</td>\n",
       "      <td>9.1104</td>\n",
       "      <td>18.3463</td>\n",
       "      <td>hotel safari</td>\n",
       "    </tr>\n",
       "    <tr>\n",
       "      <th>2</th>\n",
       "      <td>Saint-Pierre</td>\n",
       "      <td>RE</td>\n",
       "      <td>-21.3393</td>\n",
       "      <td>55.4781</td>\n",
       "      <td>Hôtel Le Saint-Pierre</td>\n",
       "    </tr>\n",
       "  </tbody>\n",
       "</table>\n",
       "</div>"
      ],
      "text/plain": [
       "                    City Country      Lat      Lng               Hotel Name\n",
       "0  Los Llanos de Aridane      ES  28.6585 -17.9182  Hotel Hacienda de Abajo\n",
       "1                 Kibala      TD   9.1104  18.3463             hotel safari\n",
       "2           Saint-Pierre      RE -21.3393  55.4781    Hôtel Le Saint-Pierre"
      ]
     },
     "execution_count": 88,
     "metadata": {},
     "output_type": "execute_result"
    }
   ],
   "source": [
    "#remove all null rows from data frame\n",
    "hotel_df.dropna(how=\"any\",inplace=True)\n",
    "hotel_df.reset_index(drop=True, inplace=True)\n",
    "hotel_df"
   ]
  },
  {
   "cell_type": "code",
   "execution_count": 89,
   "metadata": {},
   "outputs": [],
   "source": [
    "# NOTE: Do not change any of the code in this cell\n",
    "\n",
    "# Using the template add the hotel marks to the heatmap\n",
    "info_box_template = \"\"\"\n",
    "<dl>\n",
    "<dt>Name</dt><dd>{Hotel Name}</dd>\n",
    "<dt>City</dt><dd>{City}</dd>\n",
    "<dt>Country</dt><dd>{Country}</dd>\n",
    "</dl>\n",
    "\"\"\"\n",
    "# Store the DataFrame Row\n",
    "# NOTE: be sure to update with your DataFrame name\n",
    "hotel_info = [info_box_template.format(**row) for index, row in hotel_df.iterrows()]\n",
    "locations = hotel_df[[\"Lat\", \"Lng\"]]"
   ]
  },
  {
   "cell_type": "code",
   "execution_count": 90,
   "metadata": {
    "scrolled": true
   },
   "outputs": [
    {
     "data": {
      "application/vnd.jupyter.widget-view+json": {
       "model_id": "fe1cfaede8df427881843ddce0cad859",
       "version_major": 2,
       "version_minor": 0
      },
      "text/plain": [
       "Figure(layout=FigureLayout(height='400px', padding='1px', width='100%'))"
      ]
     },
     "metadata": {},
     "output_type": "display_data"
    }
   ],
   "source": [
    "# Add marker layer ontop of heat map\n",
    "markers = gmaps.marker_layer(locations, info_box_content = hotel_info)\n",
    "fig.add_layer(markers)\n",
    "\n",
    "# Display figure\n",
    "fig"
   ]
  },
  {
   "cell_type": "code",
   "execution_count": null,
   "metadata": {},
   "outputs": [],
   "source": []
  }
 ],
 "metadata": {
  "kernelspec": {
   "display_name": "Python 3",
   "language": "python",
   "name": "python3"
  },
  "language_info": {
   "codemirror_mode": {
    "name": "ipython",
    "version": 3
   },
   "file_extension": ".py",
   "mimetype": "text/x-python",
   "name": "python",
   "nbconvert_exporter": "python",
   "pygments_lexer": "ipython3",
   "version": "3.6.10"
  },
  "latex_envs": {
   "LaTeX_envs_menu_present": true,
   "autoclose": false,
   "autocomplete": true,
   "bibliofile": "biblio.bib",
   "cite_by": "apalike",
   "current_citInitial": 1,
   "eqLabelWithNumbers": true,
   "eqNumInitial": 1,
   "hotkeys": {
    "equation": "Ctrl-E",
    "itemize": "Ctrl-I"
   },
   "labels_anchors": false,
   "latex_user_defs": false,
   "report_style_numbering": false,
   "user_envs_cfg": false
  }
 },
 "nbformat": 4,
 "nbformat_minor": 4
}
